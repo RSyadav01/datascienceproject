{
 "cells": [
  {
   "cell_type": "code",
   "execution_count": null,
   "metadata": {},
   "outputs": [
    {
     "name": "stdout",
     "output_type": "stream",
     "text": [
      "['d:\\\\MLOPS\\\\datascienceproject\\\\venv\\\\python310.zip', 'd:\\\\MLOPS\\\\datascienceproject\\\\venv\\\\DLLs', 'd:\\\\MLOPS\\\\datascienceproject\\\\venv\\\\lib', 'd:\\\\MLOPS\\\\datascienceproject\\\\venv', '', 'd:\\\\MLOPS\\\\datascienceproject\\\\venv\\\\lib\\\\site-packages', 'd:\\\\MLOPS\\\\datascienceproject\\\\venv\\\\lib\\\\site-packages\\\\win32', 'd:\\\\MLOPS\\\\datascienceproject\\\\venv\\\\lib\\\\site-packages\\\\win32\\\\lib', 'd:\\\\MLOPS\\\\datascienceproject\\\\venv\\\\lib\\\\site-packages\\\\Pythonwin', 'd:\\\\MLOPS\\\\datascienceproject\\\\src']\n"
     ]
    }
   ],
   "source": [
    "import os\n",
    "import sys\n",
    "os.environ[\"MLFLOW_TRACKING_URI\"] = \"https://dagshub.com/RSyadav01/datascienceproject.mlflow\"\n",
    "os.environ[\"MLFLOW_TRACKING_USERNAME\"] = \"RSyadav01\"  \n",
    "os.environ[\"MLFLOW_TRACKING_PASSWORD\"] = \"ba113154bebffe15197f45c072017bb503668fa9\" \n",
    "\n",
    "# Add the correct src path\n",
    "sys.path.append(os.path.abspath(\"d:/MLOPS/datascienceproject/src\"))\n",
    "\n",
    "\n"
   ]
  },
  {
   "cell_type": "code",
   "execution_count": 2,
   "metadata": {},
   "outputs": [
    {
     "data": {
      "text/plain": [
       "'d:\\\\MLOPS\\\\datascienceproject\\\\research'"
      ]
     },
     "execution_count": 2,
     "metadata": {},
     "output_type": "execute_result"
    }
   ],
   "source": [
    "%pwd"
   ]
  },
  {
   "cell_type": "code",
   "execution_count": 3,
   "metadata": {},
   "outputs": [
    {
     "data": {
      "text/plain": [
       "'d:\\\\MLOPS\\\\datascienceproject'"
      ]
     },
     "execution_count": 3,
     "metadata": {},
     "output_type": "execute_result"
    }
   ],
   "source": [
    "os.chdir(\"../\")\n",
    "%pwd"
   ]
  },
  {
   "cell_type": "code",
   "execution_count": 4,
   "metadata": {},
   "outputs": [],
   "source": [
    "from dataclasses import dataclass\n",
    "from pathlib import Path\n",
    "\n",
    "@dataclass\n",
    "class ModelEvaluationConfig:\n",
    "    root_dir: Path\n",
    "    test_data_path: Path\n",
    "    model_path: Path\n",
    "    all_params: dict\n",
    "    metric_file_name: Path\n",
    "    target_column: str\n",
    "    mlflow_uri: str "
   ]
  },
  {
   "cell_type": "code",
   "execution_count": 5,
   "metadata": {},
   "outputs": [],
   "source": [
    "from src.Datascience.constants import *\n",
    "from src.Datascience.utils.common import read_yaml, create_directories, save_json"
   ]
  },
  {
   "cell_type": "code",
   "execution_count": null,
   "metadata": {},
   "outputs": [],
   "source": [
    "class ConfigurationManager:\n",
    "    def __init__(self,\n",
    "                 config_filepath=CONFIG_FILE_PATH,\n",
    "                 params_filepath=PARAMS_FILE_PATH,\n",
    "                 schema_filepath=SCHEMA_FILE_PATH):\n",
    "        \"\"\"Initialize ConfigurationManager and read YAML configurations.\"\"\"\n",
    "        self.config = read_yaml(config_filepath)\n",
    "        self.params = read_yaml(params_filepath)\n",
    "        self.schema = read_yaml(schema_filepath)\n",
    "        \n",
    "        create_directories([self.config.artifacts_root])\n",
    "\n",
    "    def get_model_evaluation_config(self) -> ModelEvaluationConfig:\n",
    "       config = self.config.model_evaluation\n",
    "       params = self.params.ElasticNet\n",
    "       schema = self.schema.TARGET_COLUMN\n",
    "       \n",
    "       create_directories([config.root_dir])\n",
    "\n",
    "       model_evaluation_config = ModelEvaluationConfig(\n",
    "          root_dir=config.root_dir,\n",
    "          test_data_path=config.test_data_path,\n",
    "          model_path= config.model_path,\n",
    "          all_params=params,\n",
    "          metric_file_name= config.metric_file_name,\n",
    "          target_column=schema.name,\n",
    "          mlflow_uri=\"https://dagshub.com/RSyadav01/datascienceproject.mlflow\"\n",
    "       )\n",
    "\n",
    "       return model_evaluation_config\n"
   ]
  },
  {
   "cell_type": "code",
   "execution_count": 11,
   "metadata": {},
   "outputs": [],
   "source": [
    "import os\n",
    "import pandas as pd\n",
    "import numpy as np\n",
    "import joblib\n",
    "import mlflow\n",
    "import mlflow.sklearn\n",
    "from urllib.parse import urlparse\n",
    "from sklearn.metrics import mean_squared_error, mean_absolute_error, r2_score"
   ]
  },
  {
   "cell_type": "code",
   "execution_count": 8,
   "metadata": {},
   "outputs": [],
   "source": [
    "class ModelEvaluation:\n",
    "    def __init__(self, config: \"ModelEvaluation\"):\n",
    "        self.config = config\n",
    "        \n",
    "\n",
    "    def eval_metrics(self, actual, pred):\n",
    "        rmse = np.sqrt(mean_squared_error(actual, pred))\n",
    "        mae = mean_absolute_error(actual, pred)\n",
    "        r2 = r2_score(actual, pred)\n",
    "        return rmse, mae, r2\n",
    "\n",
    "    def log_into_mlflow(self):\n",
    "\n",
    "        test_data = pd.read_csv(self.config.test_data_path)\n",
    "        test_x = test_data.drop([self.config.target_column], axis=1)\n",
    "        test_y = test_data[[self.config.target_column]]\n",
    "\n",
    "        # Load trained model\n",
    "        model = joblib.load(self.config.model_path)\n",
    "\n",
    "        # Configure MLflow tracking\n",
    "        mlflow.set_registry_uri(self.config.mlflow_uri)\n",
    "        tracking_url_type_store = urlparse(mlflow.get_tracking_uri()).scheme\n",
    "\n",
    "        with mlflow.start_run():\n",
    "\n",
    "           predicted_qualities = model.predict(test_x)\n",
    "\n",
    "           (rmse, mae, r2) = self.eval_metrics(test_y, predicted_qualities)\n",
    "\n",
    "           # Saving metrics as local\n",
    "           scores = {\"rmse\": rmse, \"mae\": mae, \"r2\": r2}\n",
    "           save_json(path=Path(self.config.metric_file_name), data=scores)\n",
    "\n",
    "           mlflow.log_params(self.config.all_params)\n",
    "\n",
    "           mlflow.log_metric(\"rmse\", rmse)\n",
    "           mlflow.log_metric(\"r2\", r2)\n",
    "           mlflow.log_metric(\"mae\", mae)\n",
    "\n",
    "           # Model registry does not work with file store\n",
    "           if tracking_url_type_store != \"file\":\n",
    "\n",
    "                # Register the model\n",
    "                # There are other ways to use the Model Registry, which depends on the use case,\n",
    "                # please refer to the doc for more information:\n",
    "                mlflow.sklearn.log_model(model, \"model\", registered_model_name=\"ElasticnetModel\")\n",
    "           \n",
    "           else:\n",
    "                mlflow.sklearn.log_model(model, \"model\")\n",
    "\n",
    "\n"
   ]
  },
  {
   "cell_type": "code",
   "execution_count": 9,
   "metadata": {},
   "outputs": [
    {
     "name": "stdout",
     "output_type": "stream",
     "text": [
      "[2025-03-03 18:52:16,731: INFO: common: YAML file config\\config.yaml loaded successfully]\n",
      "[2025-03-03 18:52:16,758: INFO: common: YAML file params.yaml loaded successfully]\n",
      "[2025-03-03 18:52:16,762: INFO: common: YAML file schema.yaml loaded successfully]\n",
      "[2025-03-03 18:52:16,764: INFO: common: Created directory at: artifacts]\n",
      "[2025-03-03 18:52:16,766: INFO: common: Created directory at: artifacts/model_evaluation]\n",
      "[2025-03-03 18:52:18,227: INFO: common: JSON file saved at: artifacts\\model_evaluation\\metrics.json]\n"
     ]
    },
    {
     "name": "stderr",
     "output_type": "stream",
     "text": [
      "2025/03/03 18:52:27 WARNING mlflow.models.model: Model logged without a signature and input example. Please set `input_example` parameter when logging the model to auto infer the model signature.\n",
      "Registered model 'ElasticnetModel' already exists. Creating a new version of this model...\n",
      "2025/03/03 18:52:32 INFO mlflow.store.model_registry.abstract_store: Waiting up to 300 seconds for model version to finish creation. Model name: ElasticnetModel, version 2\n",
      "Created version '2' of model 'ElasticnetModel'.\n"
     ]
    },
    {
     "name": "stdout",
     "output_type": "stream",
     "text": [
      "🏃 View run sneaky-dove-312 at: https://dagshub.com/RSyadav01/datascienceproject.mlflow/#/experiments/0/runs/d8bf2a04a65b43fb99a13a3583390839\n",
      "🧪 View experiment at: https://dagshub.com/RSyadav01/datascienceproject.mlflow/#/experiments/0\n"
     ]
    }
   ],
   "source": [
    "try:\n",
    "    config = ConfigurationManager()\n",
    "    model_evaluation_config = config.get_model_evaluation_config()\n",
    "    model_evaluation = ModelEvaluation(config=model_evaluation_config)\n",
    "    model_evaluation.log_into_mlflow()\n",
    "except Exception as e:\n",
    "    raise e\n"
   ]
  }
 ],
 "metadata": {
  "kernelspec": {
   "display_name": "Python 3",
   "language": "python",
   "name": "python3"
  },
  "language_info": {
   "codemirror_mode": {
    "name": "ipython",
    "version": 3
   },
   "file_extension": ".py",
   "mimetype": "text/x-python",
   "name": "python",
   "nbconvert_exporter": "python",
   "pygments_lexer": "ipython3",
   "version": "3.10.0"
  }
 },
 "nbformat": 4,
 "nbformat_minor": 2
}
